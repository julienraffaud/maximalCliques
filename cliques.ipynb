{
 "cells": [
  {
   "cell_type": "code",
   "execution_count": 1,
   "metadata": {},
   "outputs": [],
   "source": [
    "import networkx as nx # library to handle graphs\n",
    "import matplotlib.pyplot as plt # library to plot things\n",
    "import numpy as np # library for maths\n",
    "from networkx.drawing.nx_agraph import graphviz_layout"
   ]
  },
  {
   "cell_type": "markdown",
   "metadata": {},
   "source": [
    "## CLIQUES algorithm:"
   ]
  },
  {
   "cell_type": "markdown",
   "metadata": {},
   "source": [
    "Implementation of the algorithm CLIQUES from Fig. 2 of E. Tomita, A. Tanaka, and H. Takahashi. The worst-case time complexity for generating all maximal cliques and computational experiments. Theor. Comput. Sci., 363(1):28–42, October 2006.\n",
    "\n",
    "https://snap.stanford.edu/class/cs224w-readings/tomita06cliques.pdf"
   ]
  },
  {
   "cell_type": "code",
   "execution_count": 2,
   "metadata": {},
   "outputs": [],
   "source": [
    "def intersection(sets):\n",
    "    \"\"\"\n",
    "    given a list of sets (each set is a list of nodes),\n",
    "    return a list of the nodes that are in all of the sets.\n",
    "    \"\"\"\n",
    "    return list(set.intersection(*map(set, sets)))\n",
    "\n",
    "def exclusion(A, B):\n",
    "    \"\"\"\n",
    "    returns the set of nodes A without any of the nodes in B.\n",
    "    \"\"\"\n",
    "    try:\n",
    "        excluded = [x for x in A if x not in B]\n",
    "    except:\n",
    "        excluded = [x for x in A if x != B]\n",
    "    return excluded\n",
    "\n",
    "def largestVertex(G, SUBG, CAND):\n",
    "    \"\"\"\n",
    "    returns the node v in SUBG that maximizes \n",
    "    |CAND (intersection symbol) neighborhood of v|.\n",
    "    \"\"\"\n",
    "    intersectionLengths = []\n",
    "    for node in SUBG:\n",
    "        intersectionLengths.append( len( intersection( [list(G.neighbors(node)), list(CAND.nodes())] ) ) )\n",
    "    index = np.where( intersectionLengths==np.max(intersectionLengths) )\n",
    "    return list(SUBG.nodes())[index[0][0]]\n",
    "\n",
    "def EXPAND(G,SUBG,CAND,L):\n",
    "    \"\"\"\n",
    "    the procedure EXPAND \n",
    "    given in Fig.2 of the paper.\n",
    "    \"\"\"\n",
    "    if len(list(SUBG.nodes())) == 0:\n",
    "        print( \"CLIQUE!\" )\n",
    "        L.append('clique')\n",
    "    else:\n",
    "        u = largestVertex(G, SUBG, CAND)\n",
    "        while len( exclusion(list(CAND.nodes()), list(G.neighbors(u)) )) != 0:\n",
    "            previous_node = [\"ROOT\"]\n",
    "            q = list(CAND.subgraph( exclusion(list(CAND.nodes()), list(G.neighbors(u)))).nodes())[0]\n",
    "            print( q, end=\",\" )\n",
    "            L.append(q)\n",
    "            SUBGq = SUBG.subgraph( intersection([list(SUBG.nodes()), list(G.neighbors(q))]) )\n",
    "            CANDq = CAND.subgraph( intersection([list(CAND.nodes()), list(G.neighbors(q))]) )\n",
    "            EXPAND(G,SUBGq,CANDq,L)\n",
    "            CAND = CAND.subgraph( exclusion(list(CAND.nodes()), q) )\n",
    "            print( \"back\", end=',' )\n",
    "            L.append('back')\n",
    "            \n",
    "def CLIQUES(G):\n",
    "    L = list()\n",
    "    \"\"\"\n",
    "    the CLIQUES algorithm.\n",
    "    \"\"\"\n",
    "    EXPAND(G,G,G,L)\n",
    "    print( 'finished.')\n",
    "    return L\n",
    "\n",
    "def preprocess(G):\n",
    "    \"\"\"\n",
    "    enumerate all wedges in G\n",
    "    \"\"\"\n",
    "    wedges = dict()\n",
    "    for i in list(G.nodes()):\n",
    "        wedges_i = []\n",
    "        for j in list(G.nodes()):\n",
    "            if i!=j:\n",
    "                wedges_from_j = [x for x in list( nx.all_simple_paths(G,j,i,2)) if (len(x)==3)]\n",
    "                for w in wedges_from_j:\n",
    "                    if w !=[]:\n",
    "                        wedges_i.append(w)\n",
    "        wedges[i] = wedges_i\n",
    "    return wedges\n",
    "\n",
    "def hierarchy_pos(G, root=None, width=1., vert_gap = 0.2, vert_loc = 0, xcenter = 0.5):\n",
    "    \n",
    "    \"\"\"\n",
    "    basic tree plot function lifted off github\n",
    "    \"\"\"\n",
    "    \n",
    "    if not nx.is_tree(G):\n",
    "        raise TypeError('cannot use hierarchy_pos on a graph that is not a tree')\n",
    "    if root is None:\n",
    "        if isinstance(G, nx.DiGraph):\n",
    "            root = next(iter(nx.topological_sort(G)))  #allows back compatibility with nx version 1.11\n",
    "        else:\n",
    "            root = random.choice(list(G.nodes))\n",
    "    def _hierarchy_pos(G, root, width=.8, vert_gap = 0.2, vert_loc = 0, xcenter = 0.5, pos = None, parent = None):\n",
    "        if pos is None:\n",
    "            pos = {root:(xcenter,vert_loc)}\n",
    "        else:\n",
    "            pos[root] = (xcenter, vert_loc)\n",
    "        children = list(G.neighbors(root))\n",
    "        if not isinstance(G, nx.DiGraph) and parent is not None:\n",
    "            children.remove(parent)  \n",
    "        if len(children)!=0:\n",
    "            dx = width/len(children) \n",
    "            nextx = xcenter - width/2 - dx/2\n",
    "            for child in children:\n",
    "                nextx += dx\n",
    "                pos = _hierarchy_pos(G,child, width = dx, vert_gap = vert_gap, \n",
    "                                    vert_loc = vert_loc-vert_gap, xcenter=nextx,\n",
    "                                    pos=pos, parent = root)\n",
    "        return pos\n",
    "    return _hierarchy_pos(G, root, width, vert_gap, vert_loc, xcenter)\n",
    "\n",
    "def formatCliquesList(L):\n",
    "    \"\"\"\n",
    "    the CLIQUES algorithm outputs a useless string of code.\n",
    "    This function formats that into a nice user-friendly list.\n",
    "    \"\"\"\n",
    "    newList = []\n",
    "    for i in range(len(L)):\n",
    "        if (L[i]!='clique'):\n",
    "            if L[i]!='back':\n",
    "                newList.append(L[i])\n",
    "            else:\n",
    "                xx = 0\n",
    "                rest = L[i:]\n",
    "                for x in range(len(rest)):\n",
    "                    if rest[x]=='back':\n",
    "                        xx += 1\n",
    "                    if rest[x]!='back':\n",
    "                        break\n",
    "                newList.append(str(xx))\n",
    "    fmtList = [newList[x] for x in range(len(newList)-1) if (not isinstance(newList[x],str)) or (not isinstance(newList[x-1],str))]\n",
    "    return fmtList\n",
    "\n",
    "def createTree(List):\n",
    "    \"\"\"\n",
    "    creates a networkx tree from the (formatted) list output by the CLIQUES algorithm.\n",
    "    \"\"\"\n",
    "    tree = nx.DiGraph()\n",
    "    tree.add_node(0, value=\"ROOT\")\n",
    "    previousNodes = [0]\n",
    "    lastNode = 0\n",
    "    labels = {0:\"ROOT\"}\n",
    "    for i in range(len(List)):\n",
    "        if not isinstance(List[i], str):\n",
    "            labels[i+1] = List[i]\n",
    "            tree.add_node(i+1, value=List[i])\n",
    "            tree.add_edge(lastNode, i+1)\n",
    "            try:\n",
    "                if isinstance(List[i+1], str):\n",
    "                    shift = -int(List[i+1])+1\n",
    "                    if shift<0:\n",
    "                        previousNodes = previousNodes[:shift]\n",
    "                    lastNode = previousNodes[-1]\n",
    "                else:\n",
    "                    lastNode = i+1\n",
    "                    previousNodes.append(i+1)\n",
    "            except:\n",
    "                lastNode = i+1\n",
    "                previousNodes.append(i+1)\n",
    "        else:\n",
    "            pass\n",
    "    pos = hierarchy_pos(tree,0)\n",
    "    return tree, pos, labels\n"
   ]
  },
  {
   "cell_type": "markdown",
   "metadata": {},
   "source": [
    "## A toy example:"
   ]
  },
  {
   "cell_type": "markdown",
   "metadata": {},
   "source": [
    "Create some graph with a few cliques:"
   ]
  },
  {
   "cell_type": "code",
   "execution_count": 3,
   "metadata": {},
   "outputs": [
    {
     "data": {
      "image/png": "[encoded data removed]",
      "text/plain": [
       "<Figure size 432x288 with 1 Axes>"
      ]
     },
     "metadata": {},
     "output_type": "display_data"
    }
   ],
   "source": [
    "G = nx.Graph() # instantiate a graph object\n",
    "\n",
    "G.add_nodes_from([1,2,3,4,5,6,7,8,9]) # add some nodes\n",
    "\n",
    "G.add_edges_from([(1,9), (1,2), (9,2), (9,3), (2,3), (8,3), (3,4),\n",
    "                 (8,4), (8,6), (8,7), (7,6), (6,4), (6,5), (4,5), (4,7)])  # add edges between some nodes\n",
    "\n",
    "labels = nx.draw_networkx(G, pos=nx.spring_layout(G)) # draw the graph with labels\n",
    "plt.axis('off')\n",
    "plt.show() # show the plot"
   ]
  },
  {
   "cell_type": "markdown",
   "metadata": {},
   "source": [
    "The cliques algorithm works its magic. The collection of nodes from on any path from root node to leaf is a maximal clique."
   ]
  },
  {
   "cell_type": "code",
   "execution_count": 6,
   "metadata": {},
   "outputs": [
    {
     "name": "stdout",
     "output_type": "stream",
     "text": [
      "1,9,2,CLIQUE!\n",
      "back,back,back,9,3,2,CLIQUE!\n",
      "back,back,back,2,back,4,3,8,CLIQUE!\n",
      "back,back,6,8,7,CLIQUE!\n",
      "back,back,5,CLIQUE!\n",
      "back,back,back,finished.\n"
     ]
    },
    {
     "data": {
      "image/png": "[encoded data removed]",
      "text/plain": [
       "<Figure size 432x288 with 1 Axes>"
      ]
     },
     "metadata": {},
     "output_type": "display_data"
    }
   ],
   "source": [
    "L = formatCliquesList(CLIQUES(G))\n",
    "tree, pos, labels = createTree(L)\n",
    "nx.draw(tree, pos=pos, labels=labels, with_labels=True)\n",
    "plt.show()"
   ]
  }
 ],
 "metadata": {
  "kernelspec": {
   "display_name": "Python 3",
   "language": "python",
   "name": "python3"
  },
  "language_info": {
   "codemirror_mode": {
    "name": "ipython",
    "version": 3
   },
   "file_extension": ".py",
   "mimetype": "text/x-python",
   "name": "python",
   "nbconvert_exporter": "python",
   "pygments_lexer": "ipython3",
   "version": "3.6.8"
  }
 },
 "nbformat": 4,
 "nbformat_minor": 2
}
